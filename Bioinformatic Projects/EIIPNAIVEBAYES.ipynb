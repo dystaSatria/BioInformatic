{
  "cells": [
    {
      "cell_type": "markdown",
      "metadata": {
        "colab_type": "text",
        "id": "view-in-github"
      },
      "source": [
        "<a href=\"https://colab.research.google.com/github/dystaSatria/BioInformatic/blob/main/EIIPNAIVEBAYESBIOENFOR.ipynb\" target=\"_parent\"><img src=\"https://colab.research.google.com/assets/colab-badge.svg\" alt=\"Open In Colab\"/></a>"
      ]
    },
    {
      "cell_type": "code",
      "execution_count": null,
      "metadata": {
        "colab": {
          "base_uri": "https://localhost:8080/"
        },
        "id": "p7Fs14aAotHL",
        "outputId": "d81e9b1e-cbdc-4e58-ce71-fc18de4143bf"
      },
      "outputs": [
        {
          "name": "stdout",
          "output_type": "stream",
          "text": [
            "Mounted at /gdrive\n"
          ]
        }
      ],
      "source": [
        "from google.colab import drive\n",
        "drive.mount('/gdrive')"
      ]
    },
    {
      "cell_type": "code",
      "execution_count": null,
      "metadata": {
        "colab": {
          "base_uri": "https://localhost:8080/"
        },
        "id": "_Khdrk4Fow_o",
        "outputId": "74c2231e-ba67-4564-95bc-988a0361179d"
      },
      "outputs": [
        {
          "name": "stdout",
          "output_type": "stream",
          "text": [
            "Collecting Bio\n",
            "  Downloading bio-1.6.0-py3-none-any.whl (279 kB)\n",
            "\u001b[2K     \u001b[90m━━━━━━━━━━━━━━━━━━━━━━━━━━━━━━━━━━━━━━━━\u001b[0m \u001b[32m279.4/279.4 kB\u001b[0m \u001b[31m3.6 MB/s\u001b[0m eta \u001b[36m0:00:00\u001b[0m\n",
            "\u001b[?25hCollecting biopython>=1.80 (from Bio)\n",
            "  Downloading biopython-1.82-cp310-cp310-manylinux_2_17_x86_64.manylinux2014_x86_64.whl (3.1 MB)\n",
            "\u001b[2K     \u001b[90m━━━━━━━━━━━━━━━━━━━━━━━━━━━━━━━━━━━━━━━━\u001b[0m \u001b[32m3.1/3.1 MB\u001b[0m \u001b[31m13.8 MB/s\u001b[0m eta \u001b[36m0:00:00\u001b[0m\n",
            "\u001b[?25hRequirement already satisfied: requests in /usr/local/lib/python3.10/dist-packages (from Bio) (2.31.0)\n",
            "Requirement already satisfied: tqdm in /usr/local/lib/python3.10/dist-packages (from Bio) (4.66.1)\n",
            "Collecting mygene (from Bio)\n",
            "  Downloading mygene-3.2.2-py2.py3-none-any.whl (5.4 kB)\n",
            "Requirement already satisfied: pandas in /usr/local/lib/python3.10/dist-packages (from Bio) (1.5.3)\n",
            "Requirement already satisfied: pooch in /usr/local/lib/python3.10/dist-packages (from Bio) (1.8.0)\n",
            "Collecting gprofiler-official (from Bio)\n",
            "  Downloading gprofiler_official-1.0.0-py3-none-any.whl (9.3 kB)\n",
            "Requirement already satisfied: numpy in /usr/local/lib/python3.10/dist-packages (from biopython>=1.80->Bio) (1.23.5)\n",
            "Collecting biothings-client>=0.2.6 (from mygene->Bio)\n",
            "  Downloading biothings_client-0.3.1-py2.py3-none-any.whl (29 kB)\n",
            "Requirement already satisfied: python-dateutil>=2.8.1 in /usr/local/lib/python3.10/dist-packages (from pandas->Bio) (2.8.2)\n",
            "Requirement already satisfied: pytz>=2020.1 in /usr/local/lib/python3.10/dist-packages (from pandas->Bio) (2023.3.post1)\n",
            "Requirement already satisfied: platformdirs>=2.5.0 in /usr/local/lib/python3.10/dist-packages (from pooch->Bio) (4.1.0)\n",
            "Requirement already satisfied: packaging>=20.0 in /usr/local/lib/python3.10/dist-packages (from pooch->Bio) (23.2)\n",
            "Requirement already satisfied: charset-normalizer<4,>=2 in /usr/local/lib/python3.10/dist-packages (from requests->Bio) (3.3.2)\n",
            "Requirement already satisfied: idna<4,>=2.5 in /usr/local/lib/python3.10/dist-packages (from requests->Bio) (3.6)\n",
            "Requirement already satisfied: urllib3<3,>=1.21.1 in /usr/local/lib/python3.10/dist-packages (from requests->Bio) (2.0.7)\n",
            "Requirement already satisfied: certifi>=2017.4.17 in /usr/local/lib/python3.10/dist-packages (from requests->Bio) (2023.11.17)\n",
            "Requirement already satisfied: six>=1.5 in /usr/local/lib/python3.10/dist-packages (from python-dateutil>=2.8.1->pandas->Bio) (1.16.0)\n",
            "Installing collected packages: biopython, gprofiler-official, biothings-client, mygene, Bio\n",
            "Successfully installed Bio-1.6.0 biopython-1.82 biothings-client-0.3.1 gprofiler-official-1.0.0 mygene-3.2.2\n"
          ]
        }
      ],
      "source": [
        "pip install Bio\n"
      ]
    },
    {
      "cell_type": "markdown",
      "metadata": {},
      "source": [
        "## EIIP "
      ]
    },
    {
      "cell_type": "code",
      "execution_count": null,
      "metadata": {},
      "outputs": [],
      "source": [
        "import pandas as pd\n",
        "import numpy as np\n",
        "\n",
        "file_path = '/content/PSSP.xlsx'\n",
        "\n",
        "data = pd.read_excel(file_path)\n",
        "\n",
        "protein_sequences = data['Seq'].astype(str).tolist()\n",
        "\n",
        "eiip_dict = {\n",
        "    'A': 0.0373, 'R': 0.0959, 'N': 0.0036, 'D': 0.1263,\n",
        "    'C': 0.0829, 'Q': 0.0761, 'E': 0.0058, 'G': 0.005,\n",
        "    'H': 0.0242, 'I': 0, 'L': 0, 'K': 0.0371, 'M': 0.0823,\n",
        "    'F': 0.0946, 'P': 0.0198, 'S': 0.0829, 'T': 0.0941,\n",
        "    'W': 0.0548, 'Y': 0.0516, 'V': 0.0057\n",
        "}\n",
        "\n",
        "numerical_sequences = []\n",
        "for sequence in protein_sequences:\n",
        "    numerical_sequence = [eiip_dict[aa] if aa in eiip_dict else 0 for aa in sequence]\n",
        "    numerical_sequences.append(numerical_sequence)\n",
        "\n",
        "max_length = 400\n",
        "padded_sequences = [seq + [np.nan] * (max_length - len(seq)) if len(seq) < max_length else seq[:max_length] for seq in numerical_sequences]\n",
        "\n",
        "df = pd.DataFrame(padded_sequences)\n",
        "df.to_excel('EIIP.xlsx', index=False, header=False)\n"
      ]
    },
    {
      "cell_type": "markdown",
      "metadata": {},
      "source": [
        "# NAIVE BAYES"
      ]
    },
    {
      "cell_type": "code",
      "execution_count": 4,
      "metadata": {
        "id": "SbFHc8kWpCAr"
      },
      "outputs": [],
      "source": [
        "import numpy as np\n",
        "import pandas as pd\n",
        "import matplotlib.pyplot as plt\n",
        "import seaborn as sns\n",
        "from Bio import SeqIO"
      ]
    },
    {
      "cell_type": "code",
      "execution_count": 13,
      "metadata": {
        "id": "wAKFBpR2pKpS"
      },
      "outputs": [],
      "source": [
        "import pandas as pd\n",
        "import numpy as np\n",
        "\n",
        "file_path = '/content/PSSP.xlsx'\n",
        "\n",
        "data = pd.read_excel(file_path)\n",
        "\n",
        "protein_sequences = data['Seq'].astype(str).tolist()\n",
        "\n",
        "eiip_dict = {\n",
        "    'A': 0.0373, 'R': 0.0959, 'N': 0.0036, 'D': 0.1263,\n",
        "    'C': 0.0829, 'Q': 0.0761, 'E': 0.0058, 'G': 0.005,\n",
        "    'H': 0.0242, 'I': 0, 'L': 0, 'K': 0.0371, 'M': 0.0823,\n",
        "    'F': 0.0946, 'P': 0.0198, 'S': 0.0829, 'T': 0.0941,\n",
        "    'W': 0.0548, 'Y': 0.0516, 'V': 0.0057\n",
        "}\n",
        "\n",
        "numerical_sequences = []\n",
        "for sequence in protein_sequences:\n",
        "    numerical_sequence = [eiip_dict[aa] if aa in eiip_dict else 0 for aa in sequence]\n",
        "    numerical_sequences.append(numerical_sequence)\n",
        "\n",
        "max_length = 400\n",
        "padded_sequences = [seq + [np.nan] * (max_length - len(seq)) if len(seq) < max_length else seq[:max_length] for seq in numerical_sequences]\n",
        "\n",
        "df = pd.DataFrame(padded_sequences)\n",
        "df.to_excel('EIIPGüncelenen.xlsx', index=False, header=False)\n"
      ]
    },
    {
      "cell_type": "code",
      "execution_count": 14,
      "metadata": {
        "colab": {
          "base_uri": "https://localhost:8080/"
        },
        "id": "qErg9YmNprWA",
        "outputId": "47604223-a38f-4c50-b561-ae7f5b4af9bf"
      },
      "outputs": [
        {
          "name": "stdout",
          "output_type": "stream",
          "text": [
            "Naive Bayes Doğruluk: 0.81\n",
            "F1 Skoru: 0.8105328525641025\n",
            "Kesinlik: 0.8190101090981884\n",
            "Duyarlılık: 0.81\n",
            "Karmaşıklık Matrisi:\n",
            "[[77 12]\n",
            " [26 85]]\n"
          ]
        }
      ],
      "source": [
        "import pandas as pd\n",
        "from sklearn.model_selection import train_test_split\n",
        "from sklearn.naive_bayes import GaussianNB\n",
        "from sklearn.metrics import accuracy_score, f1_score, precision_score, recall_score, confusion_matrix\n",
        "\n",
        "excel_file = '/content/EIIPGüncelenen.xlsx'\n",
        "data = pd.read_excel(excel_file)\n",
        "\n",
        "\n",
        "X_train, X_test, y_train, y_test = train_test_split(X, y, test_size=0.2, random_state=42)\n",
        "\n",
        "model = GaussianNB()\n",
        "model.fit(X_train, y_train)\n",
        "\n",
        "predictions = model.predict(X_test)\n",
        "\n",
        "accuracy = accuracy_score(y_test, predictions)\n",
        "f1 = f1_score(y_test, predictions, average='weighted')\n",
        "precision = precision_score(y_test, predictions, average='weighted')\n",
        "recall = recall_score(y_test, predictions, average='weighted')\n",
        "\n",
        "conf_matrix = confusion_matrix(y_test, predictions)\n",
        "\n",
        "print(f\"Naive Bayes Doğruluk: {accuracy}\")\n",
        "print(f\"F1 Skoru: {f1}\")\n",
        "print(f\"Kesinlik: {precision}\")\n",
        "print(f\"Duyarlılık: {recall}\")\n",
        "print(f\"Karmaşıklık Matrisi:\\n{conf_matrix}\")\n",
        "\n",
        "\n"
      ]
    },
    {
      "cell_type": "code",
      "execution_count": null,
      "metadata": {
        "id": "AigXAa64sdzA"
      },
      "outputs": [],
      "source": []
    }
  ],
  "metadata": {
    "colab": {
      "authorship_tag": "ABX9TyOFJUU/MVw74foS0VjH1RQw",
      "include_colab_link": true,
      "provenance": []
    },
    "kernelspec": {
      "display_name": "Python 3",
      "name": "python3"
    },
    "language_info": {
      "name": "python"
    }
  },
  "nbformat": 4,
  "nbformat_minor": 0
}
