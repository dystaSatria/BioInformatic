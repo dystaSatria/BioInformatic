{
  "nbformat": 4,
  "nbformat_minor": 0,
  "metadata": {
    "colab": {
      "provenance": []
    },
    "kernelspec": {
      "name": "python3",
      "display_name": "Python 3"
    },
    "language_info": {
      "name": "python"
    },
    "gpuClass": "standard"
  },
  "cells": [
    {
      "cell_type": "code",
      "execution_count": null,
      "metadata": {
        "id": "vb_udBjUTnl3"
      },
      "outputs": [],
      "source": [
        "#Kütüphanelerin yüklenmesi\n",
        "import pandas as pd\n",
        "import numpy as np\n",
        "from sklearn.preprocessing import LabelEncoder"
      ]
    },
    {
      "cell_type": "code",
      "source": [
        "#Verinin okunması\n",
        "data = pd.read_excel(\"/content/drive/MyDrive/Dersler/Biyoenformatik/Hafta 6/AllData.xlsx\")"
      ],
      "metadata": {
        "id": "utj7qQTyUjwA"
      },
      "execution_count": null,
      "outputs": []
    },
    {
      "cell_type": "code",
      "source": [
        "#Sınıf sayısının belirlenmesi\n",
        "label_encoder = LabelEncoder().fit(data.Class)\n",
        "labels = label_encoder.transform(data.Class)\n",
        "classes = list(label_encoder.classes_)"
      ],
      "metadata": {
        "id": "Is2O7IX2Ulhh"
      },
      "execution_count": null,
      "outputs": []
    },
    {
      "cell_type": "code",
      "source": [
        "#Eğitim verisinin hazırlanması\n",
        "trainData = data.drop([\"Class\"],axis=1)"
      ],
      "metadata": {
        "id": "BPriTAkjUmzT"
      },
      "execution_count": null,
      "outputs": []
    },
    {
      "cell_type": "code",
      "source": [
        "#Verilerin normalleştirilmesi\n",
        "from sklearn.preprocessing import MinMaxScaler\n",
        "scaler = MinMaxScaler().fit(trainData.values)\n",
        "train = scaler.transform(trainData.values)\n"
      ],
      "metadata": {
        "id": "ZRazR5ZiVQd-"
      },
      "execution_count": null,
      "outputs": []
    },
    {
      "cell_type": "code",
      "source": [
        "#Verisetinin eğitim ve test olarak ayrılması\n",
        "from sklearn.model_selection import train_test_split\n",
        "X_train, X_test, y_train, y_test = train_test_split(trainData, labels, test_size = 0.20)"
      ],
      "metadata": {
        "id": "yImlRvm7UoG5"
      },
      "execution_count": null,
      "outputs": []
    },
    {
      "cell_type": "code",
      "source": [
        "#SVM modelinin çağrılması\n",
        "from sklearn import svm\n",
        "\n",
        "#SVM sınıflandırıcısının oluşturulması\n",
        "clf = svm.SVC(kernel='linear')\n",
        "\n",
        "#SVM modelinin eğitim verisine uygulanması\n",
        "clf.fit(X_train, y_train)"
      ],
      "metadata": {
        "id": "9kCPoUIiUpjn"
      },
      "execution_count": null,
      "outputs": []
    },
    {
      "cell_type": "code",
      "source": [
        "#Test verisinin tahmin edilmesi\n",
        "y_pred = clf.predict(X_test)"
      ],
      "metadata": {
        "id": "1jw5CpZvU54p"
      },
      "execution_count": null,
      "outputs": []
    },
    {
      "cell_type": "code",
      "source": [
        "#Değerlendirme skorlarının belirlenmesi\n",
        "from sklearn import metrics\n",
        "print(\"Doğruluk:\",metrics.accuracy_score(y_test, y_pred))\n",
        "print(\"F1-skor:\",metrics.f1_score(y_test, y_pred,average='weighted'))\n",
        "print(\"Kesinlik:\",metrics.precision_score(y_test, y_pred, average='weighted'))\n",
        "print(\"Hassaslık:\",metrics.recall_score(y_test, y_pred, average='weighted'))"
      ],
      "metadata": {
        "id": "gD4uVjOKVDxM"
      },
      "execution_count": null,
      "outputs": []
    },
    {
      "cell_type": "code",
      "source": [
        "#Verilerin tekrar boyutlandırılması\n",
        "X_test = np.array(X_test).reshape(4430,500,1)\n",
        "X_train = np.array(X_train).reshape(17716,500,1)"
      ],
      "metadata": {
        "id": "vPBTHTBEVGDB"
      },
      "execution_count": null,
      "outputs": []
    },
    {
      "cell_type": "code",
      "source": [
        "#Test verisi üzerinde tahmin işleminin yapılması\n",
        "for i in range(5):\n",
        "\tprint(X_test[i], y_pred[i])"
      ],
      "metadata": {
        "id": "6-w6Aas5VHPV"
      },
      "execution_count": null,
      "outputs": []
    }
  ]
}