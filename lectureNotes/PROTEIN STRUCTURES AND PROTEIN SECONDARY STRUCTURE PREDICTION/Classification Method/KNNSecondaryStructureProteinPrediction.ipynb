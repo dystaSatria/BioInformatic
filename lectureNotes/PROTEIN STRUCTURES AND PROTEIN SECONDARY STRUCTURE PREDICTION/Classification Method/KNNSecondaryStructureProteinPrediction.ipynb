{
  "nbformat": 4,
  "nbformat_minor": 0,
  "metadata": {
    "colab": {
      "provenance": []
    },
    "kernelspec": {
      "name": "python3",
      "display_name": "Python 3"
    },
    "language_info": {
      "name": "python"
    },
    "accelerator": "GPU",
    "gpuClass": "standard"
  },
  "cells": [
    {
      "cell_type": "code",
      "execution_count": null,
      "metadata": {
        "id": "F5EsHyPOJ7xD"
      },
      "outputs": [],
      "source": [
        "#Kütüphanelerin yüklenmesi\n",
        "import pandas as pd\n",
        "import numpy as np\n",
        "from sklearn.preprocessing import LabelEncoder"
      ]
    },
    {
      "cell_type": "code",
      "source": [
        "#Verinin okunması\n",
        "data = pd.read_excel(\"/content/drive/MyDrive/Dersler/Biyoenformatik/Hafta 6/AllData.xlsx\")"
      ],
      "metadata": {
        "id": "9tSA-RxEKLq3"
      },
      "execution_count": null,
      "outputs": []
    },
    {
      "cell_type": "code",
      "source": [
        "#Sınıf sayısının belirlenmesi\n",
        "label_encoder = LabelEncoder().fit(data.Class)\n",
        "labels = label_encoder.transform(data.Class)\n",
        "classes = list(label_encoder.classes_)"
      ],
      "metadata": {
        "id": "8vfyJdwuLCN8"
      },
      "execution_count": null,
      "outputs": []
    },
    {
      "cell_type": "code",
      "source": [
        "#Eğitim verisinin hazırlanması\n",
        "trainData = data.drop([\"Class\"],axis=1)"
      ],
      "metadata": {
        "id": "INO3BVG9LwKU"
      },
      "execution_count": null,
      "outputs": []
    },
    {
      "cell_type": "code",
      "source": [
        "#Verisetinin eğitim ve test olarak ayrılması\n",
        "from sklearn.model_selection import train_test_split\n",
        "X_train, X_test, y_train, y_test = train_test_split(trainData, labels, test_size = 0.20)"
      ],
      "metadata": {
        "id": "zCYND3pXL5Pk"
      },
      "execution_count": null,
      "outputs": []
    },
    {
      "cell_type": "code",
      "source": [
        "#KNN modelinin eğitim verisine uygulanması\n",
        "from sklearn.neighbors import KNeighborsClassifier\n",
        "classifier = KNeighborsClassifier(n_neighbors = 250, metric = 'manhattan')\n",
        "classifier.fit(X_train, y_train)"
      ],
      "metadata": {
        "id": "rZMiXaDxMAp7",
        "colab": {
          "base_uri": "https://localhost:8080/"
        },
        "outputId": "74ee3255-180d-4719-dcaa-d9221abbe2d8"
      },
      "execution_count": null,
      "outputs": [
        {
          "output_type": "execute_result",
          "data": {
            "text/plain": [
              "KNeighborsClassifier(metric='manhattan', n_neighbors=250)"
            ]
          },
          "metadata": {},
          "execution_count": 41
        }
      ]
    },
    {
      "cell_type": "code",
      "source": [
        "#Test verisinin tahmin edilmesi\n",
        "y_pred = classifier.predict(X_test)"
      ],
      "metadata": {
        "id": "dOh-2qZRMH-T"
      },
      "execution_count": null,
      "outputs": []
    },
    {
      "cell_type": "code",
      "source": [
        "#Değerlendirme skorlarının belirlenmesi\n",
        "from sklearn import metrics\n",
        "print(\"Doğruluk:\",metrics.accuracy_score(y_test, y_pred))\n",
        "print(\"F1-skor:\",metrics.f1_score(y_test, y_pred,average='weighted'))\n",
        "print(\"Kesinlik:\",metrics.precision_score(y_test, y_pred, average='weighted'))\n",
        "print(\"Hassaslık:\",metrics.recall_score(y_test, y_pred, average='weighted'))"
      ],
      "metadata": {
        "id": "nBqmfsIxMQx0",
        "colab": {
          "base_uri": "https://localhost:8080/"
        },
        "outputId": "a22c489c-457b-477f-bec0-b5e09d2f343d"
      },
      "execution_count": null,
      "outputs": [
        {
          "output_type": "stream",
          "name": "stdout",
          "text": [
            "Doğruluk: 0.5284424379232505\n",
            "F1-skor: 0.4294144663521211\n",
            "Kesinlik: 0.4856994748542643\n",
            "Hassaslık: 0.5284424379232505\n"
          ]
        }
      ]
    },
    {
      "cell_type": "code",
      "source": [
        "#Verilerin tekrar boyutlandırılması\n",
        "X_test = np.array(X_test).reshape(4430,500,1)\n",
        "X_train = np.array(X_train).reshape(17716,500,1)"
      ],
      "metadata": {
        "id": "1graLSdzMc-0"
      },
      "execution_count": null,
      "outputs": []
    },
    {
      "cell_type": "code",
      "source": [
        "#Test verisi üzerinde tahmin işleminin yapılması\n",
        "for i in range(5):\n",
        "\tprint(X_test[i], y_pred[i])"
      ],
      "metadata": {
        "id": "89RTqpgIMfwa"
      },
      "execution_count": null,
      "outputs": []
    },
    {
      "cell_type": "code",
      "source": [
        "print(X_test[1])"
      ],
      "metadata": {
        "id": "C8v5CaJrSYrR"
      },
      "execution_count": null,
      "outputs": []
    },
    {
      "cell_type": "code",
      "source": [
        "y_pred[1]"
      ],
      "metadata": {
        "colab": {
          "base_uri": "https://localhost:8080/"
        },
        "id": "pmwPurANSnUR",
        "outputId": "7408d7c6-4f83-4cd4-ff20-331665e27ca5"
      },
      "execution_count": null,
      "outputs": [
        {
          "output_type": "execute_result",
          "data": {
            "text/plain": [
              "2"
            ]
          },
          "metadata": {},
          "execution_count": 23
        }
      ]
    }
  ]
}