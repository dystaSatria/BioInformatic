{
  "nbformat": 4,
  "nbformat_minor": 0,
  "metadata": {
    "colab": {
      "provenance": []
    },
    "kernelspec": {
      "name": "python3",
      "display_name": "Python 3"
    },
    "language_info": {
      "name": "python"
    }
  },
  "cells": [
    {
      "cell_type": "code",
      "source": [
        "#Biopython kütüphanesinin kurulması\n",
        "!pip install biopython"
      ],
      "metadata": {
        "id": "LkU9v3_iTobR"
      },
      "execution_count": null,
      "outputs": []
    },
    {
      "cell_type": "code",
      "source": [
        "#Kütüphanelerin yüklenmesi\n",
        "import numpy as np\n",
        "from Bio import SeqIO"
      ],
      "metadata": {
        "id": "rvIl4vC3TyvL"
      },
      "execution_count": null,
      "outputs": []
    },
    {
      "cell_type": "code",
      "source": [
        "#Verilerin okunması\n",
        "from Bio import SeqIO\n",
        "\n",
        "for record in SeqIO.parse(\"/content/ABCC1.fasta\", \"fasta\"):\n",
        "    print(record.id)\n",
        "    print(record.seq)"
      ],
      "metadata": {
        "id": "QpHQIP6QT50i"
      },
      "execution_count": null,
      "outputs": []
    },
    {
      "cell_type": "code",
      "source": [
        "#Protein dizilimlerinin hydrophobicity yöntemiyle sayısal ifadelere dönüştürülmesi\n",
        "def Hydrophobicity_multi(sequences):\n",
        "    AAHydrophobicity = {\n",
        "        'A': 1.8, 'R': -4.5, 'N': -3.5, 'D': -3.5, 'C': 2.5, 'Q': -3.5, 'E': -3.5,\n",
        "        'G': -0.4, 'H': -3.2, 'I': 4.5, 'L': 3.8, 'K': -3.9, 'M': 1.9, 'F': 2.8, 'P': -0.9,\n",
        "        'S': -0.8, 'T': -0.7, 'W': -0.9, 'Y': -1.3, 'V': 4.2, 'U': 0.0, 'X': 0.0\n",
        "    }\n",
        "\n",
        "    result = []\n",
        "    for seq in sequences:\n",
        "        n = len(seq)\n",
        "        listAA = np.zeros(n)\n",
        "\n",
        "        for i in range(0, n):\n",
        "            aa = seq[i]\n",
        "            listAA[i] = AAHydrophobicity.get(aa, 0.0)  # Bilinmeyen karakterler için\n",
        "\n",
        "        result.append(listAA)\n",
        "\n",
        "    return result"
      ],
      "metadata": {
        "id": "2wmDmCqAWCgq"
      },
      "execution_count": null,
      "outputs": []
    },
    {
      "cell_type": "code",
      "source": [
        "#Fasta dosyasının tanımlanması\n",
        "fasta_file = \"/content/ABCC1.fasta\"\n",
        "protein_sequences = []\n",
        "\n",
        "for record in SeqIO.parse(fasta_file, \"fasta\"):\n",
        "    protein_sequences.append(str(record.seq))\n",
        "\n",
        "# Hydrophobicity_multi fonksiyonunu kullanarak birden çok protein dizisinin işlenmesi\n",
        "numerical_values_multi = Hydrophobicity_multi(protein_sequences)\n",
        "\n",
        "# Elde edilen sayısal ifadelerin yazdırılması\n",
        "for idx, values in enumerate(numerical_values_multi):\n",
        "    print(f\"Protein Dizisi {idx + 1}: {values}\")"
      ],
      "metadata": {
        "colab": {
          "base_uri": "https://localhost:8080/"
        },
        "id": "hK4QrTJea59L",
        "outputId": "da8fb6ff-0fc7-4b8b-83b7-9b7931ee6894"
      },
      "execution_count": null,
      "outputs": [
        {
          "output_type": "stream",
          "name": "stdout",
          "text": [
            "Protein Dizisi 1: [ 1.9  1.8  3.8 ... -0.4  3.8  4.2]\n",
            "Protein Dizisi 2: [ 1.9 -3.5  2.5 ... -0.4  3.8  4.2]\n",
            "Protein Dizisi 3: [ 1.9 -3.9 -0.4 ... -0.4  3.8  4.2]\n"
          ]
        }
      ]
    },
    {
      "cell_type": "code",
      "source": [
        "import pandas as pd\n",
        "# Verilerin DataFrame dönüştürülmesi\n",
        "df = pd.DataFrame(numerical_values_multi)\n",
        "\n",
        "# Excel'e yazdırma\n",
        "excel_file = \"/content/numerical_values.xlsx\"\n",
        "df.to_excel(excel_file, index=False)\n",
        "print(f\"Veriler '{excel_file}' adlı Excel dosyasına kaydedildi.\")\n"
      ],
      "metadata": {
        "colab": {
          "base_uri": "https://localhost:8080/"
        },
        "id": "0aBazuiQbfyO",
        "outputId": "fb855aa1-71dc-4695-9fe6-63fce8410ec4"
      },
      "execution_count": null,
      "outputs": [
        {
          "output_type": "stream",
          "name": "stdout",
          "text": [
            "Veriler '/content/numerical_values.xlsx' adlı Excel dosyasına kaydedildi.\n"
          ]
        }
      ]
    }
  ]
}