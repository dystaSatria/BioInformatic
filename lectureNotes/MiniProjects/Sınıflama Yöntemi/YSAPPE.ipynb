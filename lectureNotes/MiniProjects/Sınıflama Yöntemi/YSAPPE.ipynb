{
  "nbformat": 4,
  "nbformat_minor": 0,
  "metadata": {
    "colab": {
      "provenance": []
    },
    "kernelspec": {
      "name": "python3",
      "display_name": "Python 3"
    },
    "language_info": {
      "name": "python"
    },
    "accelerator": "GPU",
    "gpuClass": "standard"
  },
  "cells": [
    {
      "cell_type": "code",
      "execution_count": null,
      "metadata": {
        "id": "cUtC2tlo8Vee"
      },
      "outputs": [],
      "source": [
        "#Kütüphanelerin yüklenmesi\n",
        "import pandas as pd\n",
        "import numpy as np\n",
        "from sklearn.preprocessing import LabelEncoder"
      ]
    },
    {
      "cell_type": "code",
      "source": [
        "#Verinin okunması\n",
        "data = pd.read_excel(\"/content/drive/MyDrive/Dersler/Biyoenformatik/Hafta 9/AllData.xlsx\")"
      ],
      "metadata": {
        "id": "17UjY5nq8hZx"
      },
      "execution_count": null,
      "outputs": []
    },
    {
      "cell_type": "code",
      "source": [
        "#Sınıf sayısının belirlenmesi\n",
        "label_encoder = LabelEncoder().fit(data.Class)\n",
        "labels = label_encoder.transform(data.Class)\n",
        "classes = list(label_encoder.classes_)"
      ],
      "metadata": {
        "id": "JF4_3hbx88ER"
      },
      "execution_count": null,
      "outputs": []
    },
    {
      "cell_type": "code",
      "source": [
        "#Eğitim verisinin hazırlanması\n",
        "trainData = data.drop([\"Class\"],axis=1)"
      ],
      "metadata": {
        "id": "bwy7ncJw9R6b"
      },
      "execution_count": null,
      "outputs": []
    },
    {
      "cell_type": "code",
      "source": [
        "#Verilerin normalleştirilmesi\n",
        "from sklearn.preprocessing import MinMaxScaler\n",
        "scaler = MinMaxScaler().fit(trainData.values)\n",
        "train = scaler.transform(trainData.values)"
      ],
      "metadata": {
        "id": "mrQAQwHl9TGO"
      },
      "execution_count": null,
      "outputs": []
    },
    {
      "cell_type": "code",
      "source": [
        "#Verisetinin eğitim ve test olarak ayrılması\n",
        "from sklearn.model_selection import train_test_split\n",
        "X_train, X_test, y_train, y_test = train_test_split(trainData, labels, test_size = 0.20)"
      ],
      "metadata": {
        "id": "8xUGSphZ9hJb"
      },
      "execution_count": null,
      "outputs": []
    },
    {
      "cell_type": "code",
      "source": [
        "#Etiketlerin kategorilerinin belirlenmesi\n",
        "from tensorflow.keras.utils import to_categorical\n",
        "y_train = to_categorical(y_train)\n",
        "y_test = to_categorical(y_test)"
      ],
      "metadata": {
        "id": "ICmVWr9B90ik"
      },
      "execution_count": null,
      "outputs": []
    },
    {
      "cell_type": "code",
      "source": [
        "#Girdi verisinin boyutunun şekillendirilmesi\n",
        "X_train = np.array(X_train).reshape(27,400,1)\n",
        "X_test = np.array(X_test).reshape(7,400,1)"
      ],
      "metadata": {
        "id": "IFbsJWWR-Cw-"
      },
      "execution_count": null,
      "outputs": []
    },
    {
      "cell_type": "code",
      "source": [
        "#Modelin oluşturulması\n",
        "from tensorflow.keras.models import Sequential\n",
        "from tensorflow.keras.layers import Activation, Dense, BatchNormalization\n",
        "from tensorflow.keras import layers\n",
        "\n",
        "nb_features = 400\n",
        "nb_classes = len(classes)\n",
        "\n",
        "model = Sequential()\n",
        "model.add(layers.Dense(32, activation=\"relu\",  input_shape=(nb_features,)))\n",
        "model.add(layers.Dense(16, activation=\"relu\"))\n",
        "model.add(layers.Dense(8, activation=\"relu\"))\n",
        "model.add(BatchNormalization())\n",
        "model.add(Dense(nb_classes))  \n",
        "model.add(Activation('softmax'))\n",
        "model.summary()"
      ],
      "metadata": {
        "id": "Uk9sEhHe-cqy"
      },
      "execution_count": null,
      "outputs": []
    },
    {
      "cell_type": "code",
      "source": [
        "#Modelin derlenmesi\n",
        "model.compile(loss=\"binary_crossentropy\", optimizer = \"Adam\", metrics=[\"accuracy\"])\n",
        "\n",
        "#Modelin çalıştırılması\n",
        "score = model.fit(X_train, y_train, epochs = 500, validation_data=(X_test,y_test))\n"
      ],
      "metadata": {
        "id": "5CY88uKA-3au"
      },
      "execution_count": null,
      "outputs": []
    },
    {
      "cell_type": "code",
      "source": [
        "#Modelin başarımlarının değerlendirilmesi\n",
        "print((\"Average Training loss: \", np.mean(score.history[\"loss\"])))\n",
        "print((\"Average Training Accuracy: \", np.mean(score.history[\"accuracy\"])))\n",
        "print((\"Average Validation loss: \", np.mean(score.history[\"val_loss\"])))\n",
        "print((\"Average Validation Accuracy: \", np.mean(score.history[\"val_accuracy\"])))"
      ],
      "metadata": {
        "id": "9xECdrQU_w2P",
        "colab": {
          "base_uri": "https://localhost:8080/"
        },
        "outputId": "86ede867-8522-4fb1-db0c-e1a633b0c3ba"
      },
      "execution_count": null,
      "outputs": [
        {
          "output_type": "stream",
          "name": "stdout",
          "text": [
            "('Average Training loss: ', 0.05690092898625881)\n",
            "('Average Training Accuracy: ', 0.9980740740299224)\n",
            "('Average Validation loss: ', 0.4615076342821121)\n",
            "('Average Validation Accuracy: ', 0.8571428656578064)\n"
          ]
        }
      ]
    },
    {
      "cell_type": "code",
      "source": [
        "#Test verisinin tahmin edilmesi\n",
        "y_pred = model.predict(X_test)\n",
        "\n",
        "#Verilerin tekrar boyutlandırılması\n",
        "X_test = np.array(X_test).reshape(7,400,1)\n",
        "X_train = np.array(X_train).reshape(27,400,1)\n",
        "\n",
        "#Test verisi üzerinde tahmin işleminin yapılması\n",
        "for i in range(5):\n",
        "\tprint(X_test[i], np.argmax(y_pred[i]))"
      ],
      "metadata": {
        "id": "BwObGvEs_8oZ"
      },
      "execution_count": null,
      "outputs": []
    },
    {
      "cell_type": "code",
      "source": [
        "print(X_test[1])"
      ],
      "metadata": {
        "id": "KA2ZxvqHgT-2"
      },
      "execution_count": null,
      "outputs": []
    },
    {
      "cell_type": "code",
      "source": [
        "np.argmax(y_pred[1])"
      ],
      "metadata": {
        "colab": {
          "base_uri": "https://localhost:8080/"
        },
        "id": "_LQe8IAvgvMn",
        "outputId": "f192c816-0a4c-4023-dba1-3d164a3e534c"
      },
      "execution_count": null,
      "outputs": [
        {
          "output_type": "execute_result",
          "data": {
            "text/plain": [
              "0"
            ]
          },
          "metadata": {},
          "execution_count": 18
        }
      ]
    }
  ]
}